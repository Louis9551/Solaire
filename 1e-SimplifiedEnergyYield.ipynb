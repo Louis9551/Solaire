{
 "cells": [
  {
   "cell_type": "markdown",
   "metadata": {},
   "source": [
    "# Calcul du gisement solaire"
   ]
  },
  {
   "cell_type": "markdown",
   "metadata": {},
   "source": [
    "## Enoncé"
   ]
  },
  {
   "cell_type": "markdown",
   "metadata": {},
   "source": [
    "On demande de déterminer l'énergie solaire susceptible d'être récupérée le 15 avril à Casablanca ($\\phi=33°39^{''}$) pour différents cas:\n",
    "\n",
    "1) Sur un plan horizontal et sur un plan d'inclinaison égale à la latitude et d'azimut 0°.\n",
    "\n",
    "2) Calculer le potentiel sur une année complète (sur un plan d'inclinaison égale à la latitude et d'azimut 0°).\n",
    "\n",
    "3) Déterminer l'inclinaison $i$ qui maximise la quantité d'énergie reçue par unité de surface sur une année.\n"
   ]
  },
  {
   "cell_type": "markdown",
   "metadata": {},
   "source": [
    "## Résolution du point 1"
   ]
  },
  {
   "cell_type": "markdown",
   "metadata": {},
   "source": [
    "Si le 15 avril est le 105 ème jour de l'année, déterminons d'abord l'angle $\\delta$ (déclinaison en degré) par:\n",
    "\n",
    "\n",
    "\\begin{equation*}\n",
    "\\delta = 23,45 \\sin \\left[ \\frac{360}{365} (n-81)\\right]\n",
    "\\end{equation*}\n",
    "Ensuite l'angle $\\omega_0$ (angle horaire au coucher) par:\n",
    "\\begin{equation*}\n",
    "\\omega_0 = \\arccos \\left[ - \\tan \\phi  \\cdot \\tan \\delta \\right]\n",
    "\\end{equation*}\n",
    "L'irradiation hors atmosphère sur une surface horizontale vaut alors ($\\phi $ étant la latitude):\n",
    "\\begin{equation*}\n",
    "C_h = \\frac{24}{\\pi}\\frac{C^*}{1000} \\left( \\omega_0\\frac{\\pi}{180} \\sin \\delta \\sin \\phi + \\cos \\delta \\cos \\phi \\sin \\omega_0 \\right)\n",
    "\\end{equation*}\n",
    "\n",
    "Ensuite on détermine l'irradiation au sol par:\n",
    "\\begin{equation*}\n",
    "G_h = C_h (a_1+\\sigma \\, a_2)\n",
    "\\end{equation*}\n",
    "\n",
    "avec $a_1$, $a_2$ et $\\sigma$ qui sont deux facteurs dépendant de la climatologie locale (facteurs empiriques).\n",
    "\n",
    "Nous devons maintenant calculer l'irradiation hors atmosphère pour un capteur d'inclinaison $i=\\phi$ et d'azimut $\\gamma=0$.\n",
    "\\begin{equation*}\n",
    "C = \\frac{24}{\\pi} \\frac{C^*}{1000} \\sin i \\cos \\gamma \\left( \\cos \\delta \\sin \\phi \\sin \\omega_0 - \\omega_0 \\sin \\delta \\cos \\phi \\right) + C_h \\cos i\n",
    "\\end{equation*}\n",
    "\n",
    "Ensuite on détermine l'irradiation au sol par:\n",
    "\\begin{equation*}\n",
    "G = C(a_1+\\sigma \\, a_2)\n",
    "\\end{equation*}\n"
   ]
  },
  {
   "cell_type": "code",
   "execution_count": 1,
   "metadata": {},
   "outputs": [
    {
     "name": "stdout",
     "output_type": "stream",
     "text": [
      "G_h = 6.004128503510602 kWh/m² par jour ; G = 6.077807157831705 kWh/m² par jour\n"
     ]
    }
   ],
   "source": [
    "from numpy import *\n",
    "phi = 33 + 39/60\n",
    "n=31 + 28 + 31 + 15.\n",
    "sigma = 0.68\n",
    "a_1 =0.22 #a_1 et a_2 sont deux facteurs dépendant de la climatologie locale.\n",
    "a_2=0.55\n",
    "\n",
    "def SolarPot(phi, n, i, gamma, a_1, a_2, sigma): #paramètres: latitude du lieu, numéro du jour de l'année, inclinaison capteur, azimut capteur, constantes a1, a2 et sigma fonctions du lieu considéré\n",
    "    C_s = 1366. \n",
    "    delta = 23.45 * sin( 360./365.*(n-81.)*pi/180)\n",
    "    omega_0 = arccos(-tan(phi*pi/180.)*tan(delta*pi/180.)) *180. / pi\n",
    "    ddj = 2*omega_0/15.\n",
    "    C_h = 24./pi*C_s/1000. * ( omega_0*pi/180*sin(delta*pi/180)*sin(phi*pi/180)+cos(delta*pi/180)*cos(phi*pi/180)*sin(omega_0*pi/180))\n",
    "    G_h = C_h*(a_1+sigma*a_2)\n",
    "    C = C_s/1000 * 24/pi*sin(i*pi/180.)*cos(gamma*pi/180)*(cos(delta*pi/180)*sin(phi*pi/180)*sin(omega_0*pi/180)-sin(delta*pi/180)*cos(phi*pi/180)*omega_0*pi/180)+cos(i*pi/180)*C_h\n",
    "    G = C*(a_1+sigma*a_2)\n",
    "    return G_h, G\n",
    "\n",
    "(G_h, G) = SolarPot(phi, n, phi, 0., a_1, a_2, sigma)\n",
    "\n",
    "print(\"G_h =\", G_h, \"kWh/m² par jour\" , \"; G =\", G, \"kWh/m² par jour\")"
   ]
  },
  {
   "cell_type": "markdown",
   "metadata": {},
   "source": [
    "## Résolution du point 2"
   ]
  },
  {
   "cell_type": "markdown",
   "metadata": {},
   "source": [
    "Pour faire la calcul sur l'année, il suffit de re-définir la fonction précédente en définissant $n$ en tant que vecteur. Les quantités $G_h$ et $G$ seront sommées sur toute la période couverte par $n$."
   ]
  },
  {
   "cell_type": "code",
   "execution_count": 3,
   "metadata": {},
   "outputs": [
    {
     "name": "stdout",
     "output_type": "stream",
     "text": [
      "G_h = 1841.275846227332 kWh/m2/an ; G = 2125.1405196413584\n"
     ]
    }
   ],
   "source": [
    "n = arange(365)\n",
    "phi = 33 + 39/60\n",
    "a_2 = 0.55\n",
    "a_1 = 0.22\n",
    "sigma = 0.68\n",
    "gamma = 0.\n",
    "i = phi\n",
    "\n",
    "def SolarPot(phi, n, i, gamma, a_1, a_2, sigma):\n",
    "    m = size(n)\n",
    "    G_h = 0.\n",
    "    G = 0.\n",
    "    C_s = 1366.\n",
    "    for j in range(m):\n",
    "        delta = 23.45 * sin( 360./365.*(n[j]-81.)*pi/180)\n",
    "        omega_0 = arccos(-tan(phi*pi/180.)*tan(delta*pi/180.)) *180. / pi\n",
    "        ddj = 2*omega_0/15.\n",
    "        C_h = 24./pi*C_s/1000. * ( omega_0*pi/180*sin(delta*pi/180)*sin(phi*pi/180)+cos(delta*pi/180)*cos(phi*pi/180)*sin(omega_0*pi/180))\n",
    "        G_h = G_h + C_h*(a_1+sigma*a_2)\n",
    "        C = C_s/1000 * 24/pi*sin(i*pi/180.)*cos(gamma*pi/180)*(cos(delta*pi/180)*sin(phi*pi/180)*sin(omega_0*pi/180)-sin(delta*pi/180)*cos(phi*pi/180)*omega_0*pi/180)+cos(i*pi/180)*C_h\n",
    "        G = G + C*(a_1+sigma*a_2)\n",
    "    return G_h, G\n",
    "\n",
    "(G_h, G) = SolarPot(phi, n, i, gamma, a_1, a_2, sigma)\n",
    "print(\"G_h =\", G_h, \"kWh/m2/an\", \"; G =\", G)"
   ]
  },
  {
   "cell_type": "markdown",
   "metadata": {},
   "source": [
    "## Résolution du point 3"
   ]
  },
  {
   "cell_type": "markdown",
   "metadata": {},
   "source": [
    "Afin de réaliser une étude paramétrique, la fonction précédente peut être utilisée en balayant les valeur de $i$ comprises entre 0° et 90°. En représentant $G$ en fonction de $i$, la valeur optimale pourra être visualisée."
   ]
  },
  {
   "cell_type": "code",
   "execution_count": 4,
   "metadata": {},
   "outputs": [
    {
     "data": {
      "image/png": "[encoded data removed]",
      "text/plain": [
       "<Figure size 432x288 with 1 Axes>"
      ]
     },
     "metadata": {
      "needs_background": "light"
     },
     "output_type": "display_data"
    },
    {
     "name": "stdout",
     "output_type": "stream",
     "text": [
      "G_h = 1841.275846227332 ; G = 2121.479679740013\n"
     ]
    }
   ],
   "source": [
    "import pylab\n",
    "%matplotlib inline \n",
    "i_vec = arange(0., 90., 1) #crée un vecteur allant de 0 à 90 avec un pas de 1.\n",
    "m = size(i_vec)\n",
    "Gh_vec = zeros((m,)) #contient les valeurs à tracer sur les droites.\n",
    "G_vec = zeros((m,))\n",
    "for j in range(m):\n",
    "    (Gh_vec[j], G_vec[j]) = SolarPot(phi, n, i_vec[j], gamma, a_1, a_2, sigma)\n",
    "\n",
    "pylab.plot(i_vec, G_vec) #commande pour tracer le graphe demandé.\n",
    "pylab.xlabel(u'inclinaison i (°)')\n",
    "pylab.ylabel(u'G (kWh/m2/an)')\n",
    "pylab.grid()\n",
    "pylab.show()\n",
    "\n",
    "(G_h, G) = SolarPot(phi, n, 35., gamma, a_1, a_2, sigma)\n",
    "print(\"G_h =\", G_h, \"; G =\", G)"
   ]
  },
  {
   "cell_type": "code",
   "execution_count": null,
   "metadata": {},
   "outputs": [],
   "source": []
  }
 ],
 "metadata": {
  "kernelspec": {
   "display_name": "Python 3",
   "language": "python",
   "name": "python3"
  },
  "language_info": {
   "codemirror_mode": {
    "name": "ipython",
    "version": 3
   },
   "file_extension": ".py",
   "mimetype": "text/x-python",
   "name": "python",
   "nbconvert_exporter": "python",
   "pygments_lexer": "ipython3",
   "version": "3.6.7"
  }
 },
 "nbformat": 4,
 "nbformat_minor": 1
}
