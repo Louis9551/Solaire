{
 "cells": [
  {
   "cell_type": "markdown",
   "metadata": {},
   "source": [
    "# Question 1"
   ]
  },
  {
   "cell_type": "markdown",
   "metadata": {},
   "source": [
    "<img src=\"CapteurCylindroParabolique.png\">\n",
    "\n",
    "Let's consider a cylindro-parabolic collector with an opening width <b>D=3 m</b>, \n",
    "a length <b>L=30 m</b> and a surface reflectivity $\\rho^{*}=0,86$.\n",
    "\n",
    "The absorbing surface is a black linear receiver tube with an absorptivity $\\alpha^*=0,94$\n",
    "and a diameter <b>d=5 cm</b> which intercepts a fraction $\\gamma=0,7$ of the reflected solar irradiation. \n",
    "\n",
    "The fluid circulating into the tube is oil and it has a specific heat $c_p=2 \\, kJ \\,  kg^{-1} \\,  K^{-1}$\n",
    "and a mas flow rate $\\dot{m} = 1 \\, kg/s$. \n",
    "\n",
    "The oil temperature at the supply of the tube is <b>300  °C</b>. \n",
    "\n",
    "The external temperature is <b>25  °C</b> and the convective heat transfer coefficient with the ambient air is equal to $7 \\, W \\, m^{-2} \\, K^{-1}$.\n",
    "\n",
    "The solar irradiance is supposed to be equal to <b>$ 800 \\, W \\, m^{-2}$</b>.\n",
    "\n",
    "<b>Determine:</b>\n",
    " - The oil temperature at the exhaust (<b>T_f</b>).\n",
    "   \n",
    " - The thermal power exchanged with the oil.\n",
    "   \n",
    " - The efficiency of the collectors\n",
    "   \n",
    "<b>Answers</b>\n",
    "\n",
    "$T_f = 315.7 \\,  °C$ , $\\dot{Q} =31,4 \\, kW$ , $\\eta_{coll} = 43,6 \\, \\% $"
   ]
  },
  {
   "cell_type": "code",
   "execution_count": 1,
   "metadata": {},
   "outputs": [
    {
     "name": "stdout",
     "output_type": "stream",
     "text": [
      "T_f = 315.706126154 °C , Q_dot = 31412.2523085 W , eta_coll = 0.436281282063 eta_carnot = 0.493679378107 , eta_g = 0.107691536004\n"
     ]
    }
   ],
   "source": [
    "from numpy import *\n",
    "from math import exp\n",
    "\n",
    "D = 3\n",
    "L = 30\n",
    "rho_star = 0.86\n",
    "alpha_star = 0.94\n",
    "d=0.05\n",
    "gamma = 0.7\n",
    "c_p = 2000\n",
    "T_0 = 300\n",
    "m_dot = 1\n",
    "T_a = 25\n",
    "k=7\n",
    "S_star = 800\n",
    "\n",
    "a = -k*pi*d/(m_dot*c_p)\n",
    "b = S_star*D*rho_star*gamma*alpha_star/(m_dot*c_p)+k*pi*d*T_a/(m_dot*c_p)\n",
    "c = T_0 - ((S_star*D*rho_star*gamma*alpha_star+k*pi*d*T_a)/(k*pi*d))\n",
    "\n",
    "T_f = -b/a + c*exp(a*L)\n",
    "\n",
    "Q_dot = m_dot*c_p*(T_f-T_0)\n",
    "\n",
    "eta_c = 1-(T_a+273.15)/(T_f+273.15)\n",
    "\n",
    "eta_coll = Q_dot/(S_star*L*D)\n",
    "\n",
    "eta_g = eta_coll*eta_c/2\n",
    "\n",
    "print \"T_f =\", T_f, \"°C\", \",\" ,\"Q_dot =\", Q_dot, \"W\",\",\" ,\"eta_coll =\", eta_coll,\"eta_carnot =\", eta_c,\",\" ,\"eta_g =\", eta_g"
   ]
  },
  {
   "cell_type": "markdown",
   "metadata": {},
   "source": [
    "# Question 2"
   ]
  },
  {
   "cell_type": "markdown",
   "metadata": {},
   "source": [
    "The solar collectors described in the exercise 1 are connected to a Rankine cycle to produce electricity. \n",
    "\n",
    "For that cycle, consider that the heat source temperature is equal to the oil temperature at the exhaust of the collectors and the heat sink temperature is equal to 25°C.\n",
    "\n",
    "Determine:\n",
    "- The carnot efficiency of the rankine cycle.\n",
    "- The global efficiency of the system (collectors+rankine cycle) if the energy conversion efficiency (heat to electricity) is equal to 50 % of the carnot efficiency.\n",
    "\n",
    "<b>Answers</b>: $\\eta_{carnot}$ = 49.37 % & $\\eta_{global}$ = 10.8 %"
   ]
  },
  {
   "cell_type": "markdown",
   "metadata": {},
   "source": [
    "# Question 3"
   ]
  },
  {
   "cell_type": "markdown",
   "metadata": {},
   "source": [
    "<img src=\"TourSolaire.png\" >\n",
    "\n",
    "Let's consider the PS10 Solar Power Plant in Spain near Seville. This is a concentrating solar power tower with a nominal electrical power of 11 MW. \n",
    "\n",
    "The main components of the power plant are the following:\n",
    "- 624 large sun-tracking mirrors (called heliostats)\n",
    "- A 115 meter high tower\n",
    "- A solar receiver (the solar boiler) situated at the top of the tower\n",
    "- A storage to store thermal energy\n",
    "- A classical rankine cycle to produce electricity\n",
    "\n",
    "The sun-tracking mirrors focus the sunlight on a receiver situated at the top of the tower. The receiver converts the solar radiation into heat. A heat-transfer fluid (hot air or molten salt for example) is then used to transport the heat from the absorber to a steam generator, to produce superheated water steam. This water steam drives a turbine and an electrical generator to produce electricity.\n",
    "\n",
    "\n",
    "The characteristics of the power plant are the following:\n",
    "    \n",
    "<ul>\n",
    "\n",
    "<li> The number of heliostats is $N_h=624$ </li>\n",
    "<li> The surface area of one heliostat is $S_h= 120 \\, m^2$ </li>\n",
    "<li> The solar irradiance is $I^*=750 \\, W/m^2$ </li>\n",
    "<li> The effective concentration of the installation is $C_e^* = 500$ </li>\n",
    "<li> The solar boiler temperature is $T_{ch}=275°C$ </li>\n",
    "<li> The ambiant temperature is $T_a=35°C$ </li>\n",
    "<li> The boiler absorptivity is $\\alpha^*_{ch}=0,7$ </li>\n",
    "<li> The boiler emissivity factor is $\\varepsilon_{ch}=0,85$ </li>\n",
    "<li> The efficiency of the rankine cycle is equal to $ 66 \\, \\%$ of the carnot efficiency (using the same heat sink and heat source temperatures).</li>\n",
    "\n",
    "</ul>  \n",
    "\n",
    "Determine the efficiency and the electrical output of the whole system.\n",
    "\n",
    "<b>Answers</b>\n",
    "\n",
    "$ P_{mec}  =  11,3 \\, MW$   &   $\\eta_{global} =  20,12 \\, \\%$."
   ]
  },
  {
   "cell_type": "code",
   "execution_count": 5,
   "metadata": {},
   "outputs": [
    {
     "name": "stdout",
     "output_type": "stream",
     "text": [
      "56 0.689555327339 0.437836358661 0.199262179788\n"
     ]
    }
   ],
   "source": [
    "N_h = 624\n",
    "S_h = 120\n",
    "I_star = 750\n",
    "C_star_e = 500\n",
    "T_ch = 275+273.15\n",
    "alpha_star_ch = 0.7\n",
    "epsilon_ch = 0.85\n",
    "sigma_0 = 5.6703*10**(-8)\n",
    "T_a = 35+273.15\n",
    "\n",
    "P_tot = N_h*S_h*I_star/1000000\n",
    "\n",
    "eta_ch = alpha_star_ch*(1-(epsilon_ch*sigma_0*(T_ch**4-T_a**4)/(alpha_star_ch*C_star_e*I_star)))\n",
    "eta_c = 1-(T_a)/(T_ch) \n",
    "\n",
    "eta_g = eta_ch*eta_c*0.66\n",
    "\n",
    "print P_tot, eta_ch, eta_c, eta_g\n"
   ]
  },
  {
   "cell_type": "code",
   "execution_count": null,
   "metadata": {
    "collapsed": true
   },
   "outputs": [],
   "source": []
  }
 ],
 "metadata": {
  "kernelspec": {
   "display_name": "Python 3",
   "language": "python",
   "name": "python3"
  },
  "language_info": {
   "codemirror_mode": {
    "name": "ipython",
    "version": 3
   },
   "file_extension": ".py",
   "mimetype": "text/x-python",
   "name": "python",
   "nbconvert_exporter": "python",
   "pygments_lexer": "ipython3",
   "version": "3.6.7"
  }
 },
 "nbformat": 4,
 "nbformat_minor": 1
}
