{
 "cells": [
  {
   "cell_type": "markdown",
   "metadata": {},
   "source": [
    "# Exercice 1: Calcul de l'irradiation solaire en un point"
   ]
  },
  {
   "cell_type": "markdown",
   "metadata": {},
   "source": [
    "## Enoncé"
   ]
  },
  {
   "cell_type": "markdown",
   "metadata": {},
   "source": [
    "Un capteur plan est installé en un lieu situé à 1500 mètres d'altitude. Le soleil fait un angle\n",
    "de $37°$ par rapport à l'horizon. Le ciel est clair. Déterminer la puissance reçue lorsque\n",
    "le capteur est orienté perpendiculairement au rayonnement solaire. \n",
    "\n",
    "<b> Indication: </b> La pression atmosphérique à 1500m d'altitude vaut 845 hPa"
   ]
  },
  {
   "cell_type": "markdown",
   "metadata": {},
   "source": [
    "## Résolution"
   ]
  },
  {
   "cell_type": "markdown",
   "metadata": {},
   "source": [
    "Pour rappel, la masse atmosphérique, noté m, est le rapport entre la distance\n",
    "parcourue dans l'atmosphère par un rayon en provenance du Soleil à l'épaisseur verticale de l'atmosphère\n",
    "et mesurée au niveau de la mer.\n",
    "\n",
    "On peut estimer cette masse atmosphérique par la relation suivante :\n",
    "$$ m = \\frac{p}{1013} \\left[ \\sqrt{ 1229 + (614 \\sin h)^2} - 614 \\sin h \\right] $$\n",
    "\n",
    "Avec $p$ la pression atmosphérique et $h$ l'angle entre les rayons du soleil et l'horizon. "
   ]
  },
  {
   "cell_type": "code",
   "execution_count": 1,
   "metadata": {},
   "outputs": [
    {
     "name": "stdout",
     "output_type": "stream",
     "text": [
      "m = 1.3840882112930464\n"
     ]
    }
   ],
   "source": [
    "from numpy import *\n",
    "h = 37.\n",
    "p = 845.\n",
    "m = (p/1013) * ( (1229 + (614 * sin(h*pi/180))**2)**(0.5) - 614 * sin(h*pi/180) )\n",
    "print('m =',m)"
   ]
  },
  {
   "cell_type": "markdown",
   "metadata": {},
   "source": [
    "Connaissant la valeur de $m$,  le coefficient de transmission global de l'atmosphère peut être estimé par la relation suivante (pour un ciel clair et pur):\n",
    "\n",
    "$\\tau_{atm} = 0.5 \\left( e^{-0.65m} + e^{-0.095m} \\right)$ \n",
    "\n",
    "La puissance reçue par le panneau se calcule alors comme suit:\n",
    "\n",
    "$I = C^* \\, \\tau_{atm} $, avec $C^*$ la constante solaire (1366 W/m²)."
   ]
  },
  {
   "cell_type": "code",
   "execution_count": 2,
   "metadata": {},
   "outputs": [
    {
     "name": "stdout",
     "output_type": "stream",
     "text": [
      "tau_atm = 0.6417492315808759 , I = 876.6294503394765 W/m²\n"
     ]
    }
   ],
   "source": [
    "C_star = 1366.\n",
    "tau_atm = 0.5 * (exp(-0.65*m) + exp(-0.095*m))\n",
    "I = tau_atm * C_star\n",
    "print(\"tau_atm =\",tau_atm, \",\", \"I =\",I ,\"W/m²\")"
   ]
  },
  {
   "cell_type": "code",
   "execution_count": null,
   "metadata": {
    "collapsed": true
   },
   "outputs": [],
   "source": []
  }
 ],
 "metadata": {
  "kernelspec": {
   "display_name": "Python 3",
   "language": "python",
   "name": "python3"
  },
  "language_info": {
   "codemirror_mode": {
    "name": "ipython",
    "version": 3
   },
   "file_extension": ".py",
   "mimetype": "text/x-python",
   "name": "python",
   "nbconvert_exporter": "python",
   "pygments_lexer": "ipython3",
   "version": "3.6.7"
  }
 },
 "nbformat": 4,
 "nbformat_minor": 1
}
