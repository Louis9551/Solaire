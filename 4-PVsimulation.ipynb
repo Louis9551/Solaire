{
 "cells": [
  {
   "cell_type": "code",
   "execution_count": 1,
   "metadata": {},
   "outputs": [
    {
     "data": {
      "application/vnd.jupyter.widget-view+json": {
       "model_id": "2fd349dac1b54f78b88c6257e3bfddfe",
       "version_major": 2,
       "version_minor": 0
      },
      "text/plain": [
       "interactive(children=(IntSlider(value=171, continuous_update=False, description='d', max=364), FloatSlider(val…"
      ]
     },
     "metadata": {},
     "output_type": "display_data"
    },
    {
     "data": {
      "text/plain": [
       "<function __main__.PlotPVpower(d, UTC, L, phi, i, gamma, albedo, Gh, Dh, Tamb)>"
      ]
     },
     "execution_count": 1,
     "metadata": {},
     "output_type": "execute_result"
    }
   ],
   "source": [
    "import numpy as np\n",
    "import matplotlib.pylab as plt\n",
    "from IPython.display import display\n",
    "from ipywidgets import interact, IntSlider, FloatSlider, fixed, interactive, HBox\n",
    "from SolarYield import *\n",
    "\n",
    "def PlotPVpower(d, UTC, L, phi, i, gamma, albedo, Gh, Dh, Tamb):\n",
    "    (a,h,TST, h_n, UTC_0, UTC_1) = SunPosition(d, UTC, L, phi)\n",
    "    (Rs, Rd, theta) = IrradiationRatio(i, gamma, a, h, albedo, Gh[d,:], Dh[d,:])\n",
    "    Gabs = GlassAbsorbtion((Gh[d,:]-Dh[d,:])*Rs, Dh[d,:]*Rd, theta)\n",
    "    (Pmax, Vmin) = PV_panel([1000.], [25])\n",
    "    (Pm, Vm) = PV_panel(Gabs, Tamb[d,:])\n",
    "    fig, ax = plt.subplots(figsize=(8,6))\n",
    "    ax.set_xlabel('hour of day (UTC)')\n",
    "    ax.set_xlim(0,24)\n",
    "    ax.set_xticks([0,3,6,9,12,15,18,21,24])\n",
    "    ax.text(1,0.9*Pmax, 'Nominal Power: %.0f W' %Pmax)\n",
    "    ax.set_ylabel('PV production (W)')\n",
    "    ax.set_ylim(0,Pmax)\n",
    "    plt.close(fig)\n",
    "    ax.plot(UTC, Pm, 'k-', linewidth=2)\n",
    "    ax.grid(True)\n",
    "    return fig\n",
    "\n",
    "(date, UTC, L, phi, T2m, RH, Gh, Gn, Dh, Ir, WS10m, WD10m, SP) = LoadTMY('./DataOnShore_be.csv')\n",
    "\n",
    "interact(PlotPVpower,\n",
    "         d=IntSlider(value=171, min=0, max=364, step=1, continuous_update=False),\n",
    "         UTC=fixed(UTC), L=fixed(L), phi=fixed(phi), \n",
    "         i=FloatSlider(value=40, min=0, max=+90, step=5, continuous_update=False),\n",
    "         gamma=FloatSlider(value=0, min=-90, max=+90, step=5, continuous_update=False),\n",
    "         albedo=fixed(0.3), Gh=fixed(Gh), Dh=fixed(Dh), Tamb=fixed(T2m))\n"
   ]
  },
  {
   "cell_type": "code",
   "execution_count": 3,
   "metadata": {},
   "outputs": [
    {
     "data": {
      "application/vnd.jupyter.widget-view+json": {
       "model_id": "9848feaa4e304d3383727475a23a8140",
       "version_major": 2,
       "version_minor": 0
      },
      "text/plain": [
       "interactive(children=(IntSlider(value=171, continuous_update=False, description='d', max=364), FloatSlider(val…"
      ]
     },
     "metadata": {},
     "output_type": "display_data"
    },
    {
     "data": {
      "text/plain": [
       "<function __main__.PlotPVarray(d, UTC, L, phi, i, gamma, albedo, Gh, Dh, Tamb, Nps, Npp, Prated)>"
      ]
     },
     "execution_count": 3,
     "metadata": {},
     "output_type": "execute_result"
    }
   ],
   "source": [
    "import numpy as np\n",
    "import matplotlib.pylab as plt\n",
    "from IPython.display import display\n",
    "from ipywidgets import interact, IntSlider, FloatSlider, fixed, interactive, HBox\n",
    "from SolarYield import *\n",
    "\n",
    "def PlotPVarray(d, UTC, L, phi, i, gamma, albedo, Gh, Dh, Tamb, Nps, Npp, Prated):\n",
    "    (a,h,TST, h_n, UTC_0, UTC_1) = SunPosition(d, UTC, L, phi)\n",
    "    (Rs, Rd, theta) = IrradiationRatio(i, gamma, a, h, albedo, Gh[d,:], Dh[d,:])\n",
    "    Gabs = GlassAbsorbtion((Gh[d,:]-Dh[d,:])*Rs, Dh[d,:]*Rd, theta)\n",
    "    (Pmax, Vmin) = PV_panel([1000.], [25])\n",
    "    (Pm, Vm) = PV_panel(Gabs, Tamb[d,:])\n",
    "    Ppv = PV_array(Pm, Vm, Nps, Npp, Prated)\n",
    "    fig, ax = plt.subplots(figsize=(8,6))\n",
    "    ax.set_xlabel('hour of day (UTC)')\n",
    "    ax.set_xlim(0,24)\n",
    "    ax.set_xticks([0,3,6,9,12,15,18,21,24])\n",
    "    ax.set_ylabel('PV production (kW)')\n",
    "    ax.set_ylim(0,Prated)\n",
    "    plt.close(fig)\n",
    "    ax.plot(UTC, Ppv, 'k-', linewidth=2)\n",
    "    ax.grid(True)\n",
    "    return fig\n",
    "\n",
    "(date, UTC, L, phi, T2m, RH, Gh, Gn, Dh, Ir, WS10m, WD10m, SP) = LoadTMY('./DataOnShore_be.csv')\n",
    "\n",
    "interact(PlotPVarray,\n",
    "         d=IntSlider(value=171, min=0, max=364, step=1, continuous_update=False),\n",
    "         UTC=fixed(UTC), L=fixed(L), phi=fixed(phi), \n",
    "         i=FloatSlider(value=40, min=0, max=+90, step=5, continuous_update=False),\n",
    "         gamma=FloatSlider(value=0, min=-90, max=+90, step=5, continuous_update=False),\n",
    "         albedo=fixed(0.3), Gh=fixed(Gh), Dh=fixed(Dh), Tamb=fixed(T2m),\n",
    "         Nps=fixed(10), Npp=fixed(4), Prated=fixed(10.))"
   ]
  },
  {
   "cell_type": "code",
   "execution_count": 5,
   "metadata": {},
   "outputs": [
    {
     "data": {
      "application/vnd.jupyter.widget-view+json": {
       "model_id": "5f140cca5bd9407ab532d6e38b124c00",
       "version_major": 2,
       "version_minor": 0
      },
      "text/plain": [
       "interactive(children=(FloatSlider(value=40.0, continuous_update=False, description='i', max=90.0, step=5.0), F…"
      ]
     },
     "metadata": {},
     "output_type": "display_data"
    },
    {
     "data": {
      "text/plain": [
       "<function __main__.PVarrayYield(UTC, L, phi, i, gamma, albedo, Gh, Dh, Tamb, Nps, Npp, Prated, Textoutput=True)>"
      ]
     },
     "execution_count": 5,
     "metadata": {},
     "output_type": "execute_result"
    }
   ],
   "source": [
    "def PVarrayYield(UTC, L, phi, i, gamma, albedo, Gh, Dh, Tamb, Nps, Npp, Prated, Textoutput=True):\n",
    "    (Pmax, Vmin) = PV_panel([1000.], [25])\n",
    "    Ppv_rated = Pmax*Nps*Npp*1e-3\n",
    "    Epv = 0.\n",
    "    tau_pv = np.zeros((365,len(UTC)), dtype=float)\n",
    "    for d in range(365):\n",
    "        (a,h,TST, h_n, UTC_0, UTC_1) = SunPosition(d, UTC, L, phi)\n",
    "        (Rs, Rd, theta) = IrradiationRatio(i, gamma, a, h, albedo, Gh[d,:], Dh[d,:])\n",
    "        Gabs = GlassAbsorbtion((Gh[d,:]-Dh[d,:])*Rs, Dh[d,:]*Rd, theta)\n",
    "        ([Pmax], [Vmin]) = PV_panel([1000.], [25])\n",
    "        (Pm, Vm) = PV_panel(Gabs, Tamb[d,:])\n",
    "        Ppv = PV_array(Pm, Vm, Nps, Npp, Prated)\n",
    "        tau_pv[d,:] = np.divide(Ppv,Ppv_rated)\n",
    "        Epv += np.trapz(Ppv,UTC)\n",
    "    if Textoutput:\n",
    "        return 'PV produces %.0f kWh with specific production %.0f kWh/kWp' %(Epv, Epv/(Nps*Npp*Pmax*1e-3))\n",
    "    else:\n",
    "        return tau_pv\n",
    "\n",
    "interact(PVarrayYield,\n",
    "         UTC=fixed(UTC), L=fixed(L), phi=fixed(phi), \n",
    "         i=FloatSlider(value=40, min=0, max=+90, step=5, continuous_update=False),\n",
    "         gamma=FloatSlider(value=0, min=-90, max=+90, step=5, continuous_update=False),\n",
    "         albedo=fixed(0.3), Gh=fixed(Gh), Dh=fixed(Dh), Tamb=fixed(T2m),\n",
    "         Nps=fixed(10), Npp=fixed(4), Prated=fixed(10.), Textoutput=fixed(True))"
   ]
  },
  {
   "cell_type": "code",
   "execution_count": null,
   "metadata": {},
   "outputs": [],
   "source": []
  }
 ],
 "metadata": {
  "kernelspec": {
   "display_name": "Python 3",
   "language": "python",
   "name": "python3"
  },
  "language_info": {
   "codemirror_mode": {
    "name": "ipython",
    "version": 3
   },
   "file_extension": ".py",
   "mimetype": "text/x-python",
   "name": "python",
   "nbconvert_exporter": "python",
   "pygments_lexer": "ipython3",
   "version": "3.6.7"
  }
 },
 "nbformat": 4,
 "nbformat_minor": 2
}
