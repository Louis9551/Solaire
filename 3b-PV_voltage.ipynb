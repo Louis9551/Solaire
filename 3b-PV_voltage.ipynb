{
 "cells": [
  {
   "cell_type": "markdown",
   "metadata": {},
   "source": [
    "# Question 1"
   ]
  },
  {
   "cell_type": "markdown",
   "metadata": {},
   "source": [
    "A photovoltaic panel has the following characteristics:\n",
    "\n",
    "  -The open-circuit voltage (<b>V_oc</b>) is equal to <b>48.7 V</b>.\n",
    "\n",
    "  -The short-circuit current (<b>I_sc</b>) is equal to <b>5.99 A</b>.\n",
    "\n",
    "  -The voltage and the current in standard condition (<b>V_m</b> & <b>I_m</b>) are respectively equals to <b>41 V</b> & <b>5.61 A</b>.\n",
    "\n",
    "  -The <b>surface</b> of one PV panel is equal to <b>1.48 m²</b>.\n",
    "\n",
    "Determine the <b>PV panel peak power</b>, the <b>form factor</b> and the <b>efficiency</b> for a standard irradiation of <b>1000 W/m²</b>.\n",
    "\n",
    "<b>Answers</b>: P_m = 230 W_p , FF = 0.7884 , eta = 0.1554"
   ]
  },
  {
   "cell_type": "code",
   "execution_count": 2,
   "metadata": {},
   "outputs": [
    {
     "name": "stdout",
     "output_type": "stream",
     "text": [
      "230.01000000000002 0.7884804585328731 0.15541216216216217\n"
     ]
    }
   ],
   "source": [
    "V_oc = 48.7\n",
    "I_sc = 5.99\n",
    "V_m = 41\n",
    "I_m = 5.61\n",
    "A_p = 1.48\n",
    "I_star=1000\n",
    "\n",
    "P_P = V_m*I_m\n",
    "FF = (V_m*I_m)/(V_oc*I_sc)\n",
    "eta = V_m*I_m/(I_star*A_p)\n",
    "\n",
    "print(P_P, FF, eta)"
   ]
  },
  {
   "cell_type": "markdown",
   "metadata": {},
   "source": [
    "# Question 2"
   ]
  },
  {
   "cell_type": "markdown",
   "metadata": {},
   "source": [
    "For the PV panel described in the exercise 1, determine the minimum and the maximum operating temperature (<b>T_c_min</b> & <b>T_c_max</b>) if the <b>NOCT</b> is equal to <b>46 °C</b>. \n",
    "\n",
    "<b>Help</b>: The minimum and maximum ambient temperatures are respectively equals to <b>-10°C</b> & <b>38°C</b>. Moreover, the minimum and maximum irradiations are respectively equals to <b>0 W/m²</b> (during the night) and <b>1000 W/m²</b>.\n",
    "\n",
    "<b>Answers</b>: T_c_min = -10°C & T_c_max = 70°C"
   ]
  },
  {
   "cell_type": "code",
   "execution_count": 3,
   "metadata": {},
   "outputs": [
    {
     "name": "stdout",
     "output_type": "stream",
     "text": [
      "-10.0 70.5\n"
     ]
    }
   ],
   "source": [
    "T_out_min = -10\n",
    "T_out_max = 38\n",
    "NOCT = 46\n",
    "G_star_min = 0\n",
    "G_star_max = 1000\n",
    "\n",
    "T_c_min = T_out_min+G_star_min*(NOCT-20)/800\n",
    "T_c_max = T_out_max+G_star_max*(NOCT-20)/800\n",
    "\n",
    "print(T_c_min, T_c_max)\n"
   ]
  },
  {
   "cell_type": "markdown",
   "metadata": {},
   "source": [
    "# Question 3"
   ]
  },
  {
   "cell_type": "markdown",
   "metadata": {},
   "source": [
    "Consider the PV panel described in the exercises 1 and 2. Determine the minimum and the maximum voltage of the PV panel.\n",
    "\n",
    "Consider that <b>DV_m/DT</b> = <b>-0.4 %/°C</b> and  <b>DV_OC/DT = -0.3 %/°C</b>.\n",
    "\n",
    "<b>Answers</b>: V_min = 33.6 V and V_max = 53.8V"
   ]
  },
  {
   "cell_type": "code",
   "execution_count": 4,
   "metadata": {},
   "outputs": [
    {
     "name": "stdout",
     "output_type": "stream",
     "text": [
      "33.620000000000005 53.813500000000005\n"
     ]
    }
   ],
   "source": [
    "DV_m_DT = -0.004\n",
    "DV_OC_DT = -0.003\n",
    "\n",
    "T_c_min = -10.\n",
    "T_c_max = 70.\n",
    "\n",
    "V_oc = 48.7\n",
    "V_m = 41\n",
    "\n",
    "V_min = V_m*(1+DV_m_DT*(T_c_max-25))\n",
    "V_max = V_oc*(1+DV_OC_DT*(T_c_min-25))\n",
    "\n",
    "print(V_min, V_max)"
   ]
  },
  {
   "cell_type": "code",
   "execution_count": null,
   "metadata": {
    "collapsed": true
   },
   "outputs": [],
   "source": []
  }
 ],
 "metadata": {
  "kernelspec": {
   "display_name": "Python 3",
   "language": "python",
   "name": "python3"
  },
  "language_info": {
   "codemirror_mode": {
    "name": "ipython",
    "version": 3
   },
   "file_extension": ".py",
   "mimetype": "text/x-python",
   "name": "python",
   "nbconvert_exporter": "python",
   "pygments_lexer": "ipython3",
   "version": "3.6.7"
  }
 },
 "nbformat": 4,
 "nbformat_minor": 1
}
