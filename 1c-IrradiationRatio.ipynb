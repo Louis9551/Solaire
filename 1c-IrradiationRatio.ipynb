{
 "cells": [
  {
   "cell_type": "code",
   "execution_count": 1,
   "metadata": {},
   "outputs": [
    {
     "data": {
      "application/vnd.jupyter.widget-view+json": {
       "model_id": "276a0282a82c4635b801a3ff4c9ebf8d",
       "version_major": 2,
       "version_minor": 0
      },
      "text/plain": [
       "interactive(children=(IntSlider(value=171, continuous_update=False, description='d', max=364), FloatSlider(val…"
      ]
     },
     "metadata": {},
     "output_type": "display_data"
    },
    {
     "data": {
      "text/plain": [
       "<function __main__.PlotIrradiationRatio(d, UTC, L, phi, i, gamma, albedo, Gh, Dh)>"
      ]
     },
     "execution_count": 1,
     "metadata": {},
     "output_type": "execute_result"
    }
   ],
   "source": [
    "import numpy as np\n",
    "import matplotlib.pylab as plt\n",
    "from IPython.display import display\n",
    "from ipywidgets import interact, IntSlider, FloatSlider, fixed, interactive, HBox\n",
    "from SolarYield import *\n",
    "\n",
    "def PlotIrradiationRatio(d, UTC, L, phi, i, gamma, albedo, Gh, Dh):\n",
    "    (a,h,TST, h_n, UTC_0, UTC_1) = SunPosition(d, UTC, L, phi)\n",
    "    (Rs, Rd, theta) = IrradiationRatio(i, gamma, a, h, albedo, Gh[d,:], Dh[d,:])\n",
    "    fig, (ax1, ax2) = plt.subplots(1, 2, figsize=(16,6))\n",
    "    plt.close(fig)\n",
    "    ax1.plot(UTC, Rs,'k-', linewidth=2, label='Direct')\n",
    "    ax1.plot(UTC, Rd,'b-', linewidth=2, label='Diffuse')\n",
    "    ax1.set_xlim(0,24)\n",
    "    ax1.set_xticks([0,3,6,9,12,15,18,21,24])\n",
    "    ax1.set_xlabel('Hour of day (UTC)')\n",
    "    ax1.set_ylim(0,10)\n",
    "    ax1.set_ylabel('Irradiation ratio')\n",
    "    ax1.legend()\n",
    "    ax1.grid(True)\n",
    "\n",
    "    ax1b = plt.twinx(ax1)\n",
    "    ax1b.set_ylabel('Incidence angle', color='r')\n",
    "    ax1b.plot(UTC, theta, 'r-', linewidth=2)\n",
    "    for tl in ax1b.get_yticklabels(): tl.set_color('r')\n",
    "    ax1b.set_xlim(0, 24)    \n",
    "    ax1b.set_ylim(0, 90)    \n",
    "    \n",
    "    ax2.plot(UTC, (Gh[d,:]-Dh[d,:])*Rs, 'k-',  linewidth=2, label='Direct')\n",
    "    ax2.plot(UTC, Dh[d,:]*Rd, 'b-',  linewidth=2, label='Diffuse')\n",
    "    ax2.plot(UTC, (Gh[d,:]-Dh[d,:])*Rs+Dh[d,:]*Rd, 'r-',  linewidth=2, label='Global')\n",
    "    ax2.set_xlabel('Hour of day (UTC)')\n",
    "    ax2.set_xlim(0,24)\n",
    "    ax2.set_xticks([0,3,6,9,12,15,18,21,24])\n",
    "    ax2.set_ylim(0,1366)\n",
    "    ax2.set_ylabel('Irradiation (W/m2)')\n",
    "    ax2.legend()\n",
    "    ax2.grid(True)\n",
    "    return fig\n",
    "\n",
    "(date, UTC, L, phi, T2m, RH, Gh, Gn, Dh, Ir, WS10m, WD10m, SP) = LoadTMY('./DataOnShore_be.csv')\n",
    "\n",
    "interact(PlotIrradiationRatio,\n",
    "         d=IntSlider(value=171, min=0, max=364, step=1, continuous_update=False),\n",
    "         UTC=fixed(UTC), L=fixed(L), phi=fixed(phi), \n",
    "         i=FloatSlider(value=40, min=0, max=+90, step=5, continuous_update=False),\n",
    "         gamma=FloatSlider(value=0, min=-90, max=+90, step=5, continuous_update=False),\n",
    "         albedo=fixed(0.3), Gh=fixed(Gh), Dh=fixed(Dh))"
   ]
  },
  {
   "cell_type": "code",
   "execution_count": null,
   "metadata": {},
   "outputs": [],
   "source": []
  }
 ],
 "metadata": {
  "kernelspec": {
   "display_name": "Python 3",
   "language": "python",
   "name": "python3"
  },
  "language_info": {
   "codemirror_mode": {
    "name": "ipython",
    "version": 3
   },
   "file_extension": ".py",
   "mimetype": "text/x-python",
   "name": "python",
   "nbconvert_exporter": "python",
   "pygments_lexer": "ipython3",
   "version": "3.6.7"
  }
 },
 "nbformat": 4,
 "nbformat_minor": 2
}
