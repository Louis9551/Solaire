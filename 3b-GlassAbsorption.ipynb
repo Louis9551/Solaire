{
 "cells": [
  {
   "cell_type": "code",
   "execution_count": 1,
   "metadata": {},
   "outputs": [
    {
     "ename": "FileNotFoundError",
     "evalue": "[Errno 2] No such file or directory: './DataOnShore_sp.csv'",
     "output_type": "error",
     "traceback": [
      "\u001b[0;31m---------------------------------------------------------------------------\u001b[0m",
      "\u001b[0;31mFileNotFoundError\u001b[0m                         Traceback (most recent call last)",
      "\u001b[0;32m<ipython-input-1-225e09188f74>\u001b[0m in \u001b[0;36m<module>\u001b[0;34m\u001b[0m\n\u001b[1;32m     17\u001b[0m     \u001b[0;32mreturn\u001b[0m \u001b[0mfig\u001b[0m\u001b[0;34m\u001b[0m\u001b[0;34m\u001b[0m\u001b[0m\n\u001b[1;32m     18\u001b[0m \u001b[0;34m\u001b[0m\u001b[0m\n\u001b[0;32m---> 19\u001b[0;31m \u001b[0;34m(\u001b[0m\u001b[0mdate\u001b[0m\u001b[0;34m,\u001b[0m \u001b[0mUTC\u001b[0m\u001b[0;34m,\u001b[0m \u001b[0mL\u001b[0m\u001b[0;34m,\u001b[0m \u001b[0mphi\u001b[0m\u001b[0;34m,\u001b[0m \u001b[0mT2m\u001b[0m\u001b[0;34m,\u001b[0m \u001b[0mRH\u001b[0m\u001b[0;34m,\u001b[0m \u001b[0mGh\u001b[0m\u001b[0;34m,\u001b[0m \u001b[0mGn\u001b[0m\u001b[0;34m,\u001b[0m \u001b[0mDh\u001b[0m\u001b[0;34m,\u001b[0m \u001b[0mIr\u001b[0m\u001b[0;34m,\u001b[0m \u001b[0mWS10m\u001b[0m\u001b[0;34m,\u001b[0m \u001b[0mWD10m\u001b[0m\u001b[0;34m,\u001b[0m \u001b[0mSP\u001b[0m\u001b[0;34m)\u001b[0m \u001b[0;34m=\u001b[0m \u001b[0mLoadTMY\u001b[0m\u001b[0;34m(\u001b[0m\u001b[0;34m'./DataOnShore_sp.csv'\u001b[0m\u001b[0;34m)\u001b[0m\u001b[0;34m\u001b[0m\u001b[0;34m\u001b[0m\u001b[0m\n\u001b[0m\u001b[1;32m     20\u001b[0m \u001b[0;34m\u001b[0m\u001b[0m\n\u001b[1;32m     21\u001b[0m interact(PlotAbsorbtion,\n",
      "\u001b[0;32m/opt/ipynb_helmo_solaire/Exercices/SolarYield.py\u001b[0m in \u001b[0;36mLoadTMY\u001b[0;34m(filename)\u001b[0m\n\u001b[1;32m      8\u001b[0m     \u001b[0mdpm\u001b[0m \u001b[0;34m=\u001b[0m \u001b[0;34m[\u001b[0m\u001b[0;36m0\u001b[0m\u001b[0;34m,\u001b[0m\u001b[0;36m31\u001b[0m\u001b[0;34m,\u001b[0m\u001b[0;36m28\u001b[0m\u001b[0;34m,\u001b[0m\u001b[0;36m31\u001b[0m\u001b[0;34m,\u001b[0m\u001b[0;36m30\u001b[0m\u001b[0;34m,\u001b[0m\u001b[0;36m31\u001b[0m\u001b[0;34m,\u001b[0m\u001b[0;36m30\u001b[0m\u001b[0;34m,\u001b[0m\u001b[0;36m31\u001b[0m\u001b[0;34m,\u001b[0m\u001b[0;36m31\u001b[0m\u001b[0;34m,\u001b[0m\u001b[0;36m30\u001b[0m\u001b[0;34m,\u001b[0m\u001b[0;36m31\u001b[0m\u001b[0;34m,\u001b[0m\u001b[0;36m30\u001b[0m\u001b[0;34m]\u001b[0m\u001b[0;34m\u001b[0m\u001b[0;34m\u001b[0m\u001b[0m\n\u001b[1;32m      9\u001b[0m     \u001b[0;31m# opens the data dile in read-only mode and stores every line in a buffer\u001b[0m\u001b[0;34m\u001b[0m\u001b[0;34m\u001b[0m\u001b[0;34m\u001b[0m\u001b[0m\n\u001b[0;32m---> 10\u001b[0;31m     \u001b[0mRawData\u001b[0m \u001b[0;34m=\u001b[0m \u001b[0mopen\u001b[0m\u001b[0;34m(\u001b[0m\u001b[0mfilename\u001b[0m\u001b[0;34m,\u001b[0m \u001b[0;34m'r'\u001b[0m\u001b[0;34m)\u001b[0m\u001b[0;34m.\u001b[0m\u001b[0mreadlines\u001b[0m\u001b[0;34m(\u001b[0m\u001b[0;34m)\u001b[0m\u001b[0;34m\u001b[0m\u001b[0;34m\u001b[0m\u001b[0m\n\u001b[0m\u001b[1;32m     11\u001b[0m     \u001b[0;31m# Counts the number of lines and allocate the different tables\u001b[0m\u001b[0;34m\u001b[0m\u001b[0;34m\u001b[0m\u001b[0;34m\u001b[0m\u001b[0m\n\u001b[1;32m     12\u001b[0m     \u001b[0mn_lines\u001b[0m \u001b[0;34m=\u001b[0m \u001b[0mlen\u001b[0m\u001b[0;34m(\u001b[0m\u001b[0mRawData\u001b[0m\u001b[0;34m)\u001b[0m\u001b[0;34m\u001b[0m\u001b[0;34m\u001b[0m\u001b[0m\n",
      "\u001b[0;31mFileNotFoundError\u001b[0m: [Errno 2] No such file or directory: './DataOnShore_sp.csv'"
     ]
    }
   ],
   "source": [
    "import numpy as np\n",
    "import matplotlib.pylab as plt\n",
    "from IPython.display import display\n",
    "from ipywidgets import interact, IntSlider, FloatSlider, fixed, interactive, HBox\n",
    "from SolarYield import *\n",
    "\n",
    "def PlotAbsorbtion(d, UTC, L, phi, i, gamma, albedo, Gh, Dh):\n",
    "    (a,h,TST, h_n, UTC_0, UTC_1) = SunPosition(d, UTC, L, phi)\n",
    "    (Rs, Rd, theta) = IrradiationRatio(i, gamma, a, h, albedo, Gh[d,:], Dh[d,:])\n",
    "    Gabs = GlassAbsorbtion((Gh[d,:]-Dh[d,:])*Rs, Dh[d,:]*Rd, theta)\n",
    "    fig, ax = plt.subplots(figsize=(8,6))\n",
    "    plt.close(fig)\n",
    "    ax.plot(UTC, Gabs, 'r-', linewidth=2, label='Absorbed')\n",
    "    ax.plot(UTC, (Gh[d,:]-Dh[d,:])*Rs+Dh[d,:]*Rd, 'k-',  linewidth=2, label='Global')\n",
    "    ax.legend()\n",
    "    ax.grid()\n",
    "    return fig\n",
    "\n",
    "(date, UTC, L, phi, T2m, RH, Gh, Gn, Dh, Ir, WS10m, WD10m, SP) = LoadTMY('./DataOnShore_be.csv')\n",
    "\n",
    "interact(PlotAbsorbtion,\n",
    "         d=IntSlider(value=171, min=0, max=364, step=1, continuous_update=False),\n",
    "         UTC=fixed(UTC), L=fixed(L), phi=fixed(phi), \n",
    "         i=FloatSlider(value=40, min=0, max=+90, step=5, continuous_update=False),\n",
    "         gamma=FloatSlider(value=0, min=-90, max=+90, step=5, continuous_update=False),\n",
    "         albedo=fixed(0.3), Gh=fixed(Gh), Dh=fixed(Dh))\n"
   ]
  },
  {
   "cell_type": "code",
   "execution_count": null,
   "metadata": {},
   "outputs": [],
   "source": []
  },
  {
   "cell_type": "code",
   "execution_count": null,
   "metadata": {},
   "outputs": [],
   "source": []
  }
 ],
 "metadata": {
  "kernelspec": {
   "display_name": "Python 3",
   "language": "python",
   "name": "python3"
  },
  "language_info": {
   "codemirror_mode": {
    "name": "ipython",
    "version": 3
   },
   "file_extension": ".py",
   "mimetype": "text/x-python",
   "name": "python",
   "nbconvert_exporter": "python",
   "pygments_lexer": "ipython3",
   "version": "3.6.7"
  }
 },
 "nbformat": 4,
 "nbformat_minor": 2
}
