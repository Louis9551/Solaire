{
 "cells": [
  {
   "cell_type": "code",
   "execution_count": 1,
   "metadata": {},
   "outputs": [
    {
     "data": {
      "application/vnd.jupyter.widget-view+json": {
       "model_id": "fa23dfdf853042d6b23df451888b7fef",
       "version_major": 2,
       "version_minor": 0
      },
      "text/plain": [
       "interactive(children=(FloatSlider(value=0.0, description='t', max=23.0, step=1.0), IntSlider(value=171, contin…"
      ]
     },
     "metadata": {},
     "output_type": "display_data"
    },
    {
     "data": {
      "text/plain": [
       "<function __main__.PlotSunPosition(t, d, UTC, L, phi)>"
      ]
     },
     "execution_count": 1,
     "metadata": {},
     "output_type": "execute_result"
    }
   ],
   "source": [
    "import numpy as np\n",
    "import matplotlib.pylab as plt\n",
    "from IPython.display import display\n",
    "from ipywidgets import interact, IntSlider, FloatSlider, fixed, interactive, HBox\n",
    "from SolarYield import *\n",
    "\n",
    "def PlotSunPosition(t, d, UTC, L, phi):\n",
    "    (a,h,TST, h_n, UTC_0, UTC_1) = SunPosition(d, UTC, L, phi)\n",
    "    [i] = np.where(UTC==t)\n",
    "    fig, ax = plt.subplots(figsize=(8,6))\n",
    "    plt.close(fig)\n",
    "    ax.plot(a, h,'k.', linewidth=5)\n",
    "    ax.plot(a[i], h[i],'ro', linewidth=1)\n",
    "    ax.set_xlim(-180,180)\n",
    "    ax.text(-170, 85, 'Sunrise at %d:%d h and sunset at %d:%d h (UTC)' %(UTC_0, UTC_0%1*60, UTC_1, UTC_1%1*60))\n",
    "    ax.text(-170, 80, 'True solar time %d:%d h (UTC=%d:%d h)' %(TST[i], TST[i]%1*60, UTC[i], UTC[i]%1*60))\n",
    "    ax.text(-170, 75, 'Solar height at solar noon %d deg.' %(h_n))\n",
    "    ax.set_xticks([-180,-135,-90,-45,0,45,90,135,180])\n",
    "    ax.set_ylim(0,90)\n",
    "    ax.set_yticks([0, 10, 20, 30, 40, 50, 60, 70 ,80, 90])\n",
    "    ax.grid(True)\n",
    "    return fig\n",
    "\n",
    "UTC = np.arange(0,24,1)\n",
    "interact(PlotSunPosition, t=FloatSlider(value=0, min=0, max=23, step=1, continuous_update=True),\n",
    "         d=IntSlider(value=171, min=0, max=364, step=1, continuous_update=False),\n",
    "         UTC=fixed(UTC),         \n",
    "         L=FloatSlider(value=5, min=-180, max=180, step=5, continuous_update=False), \n",
    "         phi=FloatSlider(value=50, min=0, max=+90, step=5, continuous_update=False))"
   ]
  },
  {
   "cell_type": "code",
   "execution_count": null,
   "metadata": {},
   "outputs": [],
   "source": []
  }
 ],
 "metadata": {
  "kernelspec": {
   "display_name": "Python 3",
   "language": "python",
   "name": "python3"
  },
  "language_info": {
   "codemirror_mode": {
    "name": "ipython",
    "version": 3
   },
   "file_extension": ".py",
   "mimetype": "text/x-python",
   "name": "python",
   "nbconvert_exporter": "python",
   "pygments_lexer": "ipython3",
   "version": "3.6.7"
  }
 },
 "nbformat": 4,
 "nbformat_minor": 2
}
