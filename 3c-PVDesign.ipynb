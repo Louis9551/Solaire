{
 "cells": [
  {
   "cell_type": "markdown",
   "metadata": {},
   "source": [
    "# Design of a PV powerplant"
   ]
  },
  {
   "cell_type": "markdown",
   "metadata": {},
   "source": [
    "We want to install photovoltaic panels on the south part of the roof of the thermodynamics laboratory. The roof has a surface area of 300 m². A supplier has provided an offer of 350 € for each PV panel with the following characteristics:\n",
    "\n",
    "<table>\n",
    "<tr>\n",
    "<td>$V_{oc} \\, [V]$</td>\n",
    "<td>$I_{sc} \\, [A]$</td>\n",
    "<td>$V_m \\, [V]$</td>\n",
    "<td>$I_{m} \\, [A]$</td>\n",
    "<td>$\\Delta V_{oc}/ \\Delta T \\, [\\% \\, °C^{-1}]$</td>\n",
    "<td>$\\Delta V_{m}/ \\Delta T \\, [\\% \\, °C^{-1}]$</td>\n",
    "<td>$NOCT \\, [°C]$</td>\n",
    "<td>$S \\, [m^2]$</td>\n",
    "</tr>\n",
    "<tr>\n",
    "<td>$67.5$</td>\n",
    "<td>$3.75$</td>\n",
    "<td>$54.8$</td>\n",
    "<td>$3.47$</td>\n",
    "<td>$-0.3$</td>\n",
    "<td>$-0.4$</td>\n",
    "<td>$45$</td>\n",
    "<td>$1.32$</td>\n",
    "</tr>\n",
    "</table>\n",
    "\n",
    "He has also proposed a offer of 3180 € for each inverter with the following characteristics:\n",
    "\n",
    "<table>\n",
    "<tr>\n",
    "<td>$Inventer \\, [-]$</td>\n",
    "<td>$P_{nom} \\, [kW]$</td>\n",
    "<td>$P_{max} \\, [kW]$</td>\n",
    "<td>$V_{in,dc} \\, [V]$</td>\n",
    "<td>$V_{in,{mppt}} \\, [V]$</td>\n",
    "<td>$V_{ac,{out}} \\, [V]$</td>\n",
    "<td>$I_{ac,{out}} \\, [A]$</td>\n",
    "</tr>\n",
    "<tr>\n",
    "<td>$1$</td>\n",
    "<td>$10.6$</td>\n",
    "<td>$11.7$</td>\n",
    "<td>$600$</td>\n",
    "<td>Between 180 & 450 V</td>\n",
    "<td>$400$</td>\n",
    "<td>$28.6$</td>\n",
    "</tr>\n",
    "</table>\n",
    "\n",
    "Considering that the installation cost and the cost due to the connection to the electricity grid are 0.9 €/$W_{peak,installed}$ , what is the total installation cost?\n",
    "\n",
    "What is the return on investment? Consider an electricity price of 85 €/MWh and that the green certificates are sold for 65 € (We receive 5 green certificates per MWh)\n",
    "\n"
   ]
  },
  {
   "cell_type": "markdown",
   "metadata": {},
   "source": [
    "# How to solve?"
   ]
  },
  {
   "cell_type": "markdown",
   "metadata": {},
   "source": [
    "- Calculation of the solar potential with the simple method. (tilt angle = $30°C$, gamma = 45°C° , L=-5,55° , $\\phi = 50,58°$ )\n",
    "\n",
    "- Calculation of the electrical energy produced by each PV panel over one year (in kWh/kWp) (consider a performance factor of 75 %)\n",
    "\n",
    "- Calculation of the maximum and minimum PV voltage.\n",
    "\n",
    "- Determination of the optimal number of PV panels placed on the roof.\n",
    "\n",
    "- Calculation of the total construction cost, the cash inflow and the return on investment."
   ]
  },
  {
   "cell_type": "code",
   "execution_count": 2,
   "metadata": {},
   "outputs": [
    {
     "name": "stdout",
     "output_type": "stream",
     "text": [
      "P_i = 43217.27272727272 kW , eta_n = 0.14405757575757577 % , E_e = 146.03980800000002 kWh/year , E_s = 768.0 kWh/kW\n"
     ]
    }
   ],
   "source": [
    "from numpy import *\n",
    "S_labo = 300\n",
    "S_p = 1.32\n",
    "V_m = 54.8\n",
    "I_m = 3.47\n",
    "I_std = 1000\n",
    "k = 0.75\n",
    "G_i_gamma = 1024\n",
    "\n",
    "N_p = S_labo/S_p\n",
    "\n",
    "P_i = N_p*V_m*I_m\n",
    "\n",
    "eta_n = V_m*I_m/(I_std*S_p)\n",
    "\n",
    "E_e = S_p*G_i_gamma*eta_n*k\n",
    "\n",
    "E_s = E_e/(V_m*I_m/1000)\n",
    "\n",
    "print(\"P_i =\", P_i, \"kW\", \",\" , \"eta_n =\", eta_n, \"%\", \",\" , \"E_e =\", E_e, \"kWh/year\", \",\" , \"E_s =\", E_s, \"kWh/kW\")"
   ]
  },
  {
   "cell_type": "code",
   "execution_count": 3,
   "metadata": {},
   "outputs": [
    {
     "name": "stdout",
     "output_type": "stream",
     "text": [
      "T_c_min = -10 °C , T_c_max = 69 °C , V_oc_max = 74.5875 V , V_m_min = 45.1552 V\n"
     ]
    }
   ],
   "source": [
    "T_a_min = -10\n",
    "T_a_max = 38\n",
    "NOCT = 45\n",
    "G_min = 0\n",
    "G_max = 1000\n",
    "V_oc = 67.5\n",
    "V_m = 54.8\n",
    "DV_oc_DT = -0.003\n",
    "DV_m_DT = -0.004\n",
    "\n",
    "\n",
    "T_c_min = T_a_min + ((NOCT - 20)*G_min/800)\n",
    "T_c_max = T_a_max + ((NOCT - 20)*G_max/800)\n",
    "\n",
    "V_oc_max = V_oc * (1+((T_c_min-25)*DV_oc_DT))\n",
    "V_m_min = V_m * (1+((T_c_max-25)*DV_m_DT))\n",
    "\n",
    "print \"T_c_min =\", T_c_min, \"°C\", \",\" , \"T_c_max =\", T_c_max, \"°C\", \",\" , \"V_oc_max =\", V_oc_max, \"V\", \",\" , \"V_m_min =\", V_m_min, \"V\""
   ]
  },
  {
   "cell_type": "code",
   "execution_count": 7,
   "metadata": {},
   "outputs": [
    {
     "name": "stdout",
     "output_type": "stream",
     "text": [
      "N_p_max_series = 6 , N_p_min_series = 4 , N_p_series = 5 , N_p_parallel = 11 , Total Cost = 127370.888 , Cash inflow = 16294.46764 , Investment Payback Time = 7 years and 9 month\n"
     ]
    }
   ],
   "source": [
    "from numpy import *\n",
    "V_in_MPPT_max = 450\n",
    "V_oc_max = 74.5875\n",
    "V_in_MPPT_min = 180\n",
    "V_m_min = 45.1552\n",
    "P_nom_onduleur = 10600\n",
    "N_p_max = int(floor(300/1.32))\n",
    "V_m = 54.8\n",
    "I_m = 3.47\n",
    "\n",
    "N_p_max_serie = int(floor(V_in_MPPT_max/V_oc_max))\n",
    "N_p_min_serie = int(ceil(V_in_MPPT_min/V_m_min))\n",
    "N_p_serie = 5\n",
    "N_p_parallele = int(floor(P_nom_onduleur/(N_p_serie*190.16)))\n",
    "n_onduleur = int(floor(N_p_max/(N_p_parallele*N_p_serie)))\n",
    "N_p_total = N_p_parallele*N_p_serie*n_onduleur\n",
    "P_totale = N_p_total*I_m*V_m\n",
    "E_e = 950*P_totale/1000\n",
    "\n",
    "C_total = N_p_total*350+n_onduleur*3180+0.9*P_totale\n",
    "Gain = 0.085*E_e + 5*65*E_e/1000\n",
    "PaybackTimeAnnees = int(floor(C_total/Gain))\n",
    "PaybackTimeMois = int((C_total/Gain - int(floor(C_total/Gain)))*12)\n",
    "\n",
    "\n",
    "print \"N_p_max_series =\", N_p_max_serie, \",\" , \"N_p_min_series =\" , N_p_min_serie, \",\" , \"N_p_series =\" ,N_p_serie, \",\" , \"N_p_parallel =\" ,N_p_parallele, \",\" , \"Total Cost =\", C_total , \",\" , \"Cash inflow =\", Gain, \",\" , \"Investment Payback Time =\", PaybackTimeAnnees ,\"years and\", PaybackTimeMois, \"month\"  "
   ]
  },
  {
   "cell_type": "code",
   "execution_count": null,
   "metadata": {
    "collapsed": true
   },
   "outputs": [],
   "source": []
  }
 ],
 "metadata": {
  "kernelspec": {
   "display_name": "Python 3",
   "language": "python",
   "name": "python3"
  },
  "language_info": {
   "codemirror_mode": {
    "name": "ipython",
    "version": 3
   },
   "file_extension": ".py",
   "mimetype": "text/x-python",
   "name": "python",
   "nbconvert_exporter": "python",
   "pygments_lexer": "ipython3",
   "version": "3.6.7"
  }
 },
 "nbformat": 4,
 "nbformat_minor": 1
}
